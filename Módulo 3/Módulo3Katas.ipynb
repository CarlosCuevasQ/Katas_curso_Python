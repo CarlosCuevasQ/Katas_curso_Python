{
 "cells": [
  {
   "cell_type": "markdown",
   "metadata": {},
   "source": [
    "## PROBLEMA 1\n",
    "Para este ejercicio, escribirás una lógica condicional que imprima una advertencia si un asteroide se acerca a la Tierra demasiado rápido. La velocidad del asteroide varía dependiendo de lo cerca que esté del sol, y cualquier velocidad superior a 25 kilómetros por segundo (km/s) merece una advertencia.\n",
    "\n",
    "Un asteroide se acerca, y viaja a una velocidad de 49 km/s."
   ]
  },
  {
   "cell_type": "code",
   "execution_count": 39,
   "metadata": {},
   "outputs": [
    {
     "name": "stdout",
     "output_type": "stream",
     "text": [
      "ADVERTENCIA SE ACERCA UN ASTEROIDE CON UNA VELOCIDAD CONSIDERABLE\n",
      "SU VELOCIDAD ES DE: 49 KM/H\n"
     ]
    }
   ],
   "source": [
    "vel_asteriode = int(input(\"Introduzca velocidad del asteroide: \"))\n",
    "if vel_asteriode < 25 and vel_asteriode != 0:\n",
    "    print (\"La velocidad del asteroide no signifca ningun peligro\")\n",
    "    print(\"Su velocidad es de:\", vel_asteriode, \"Km/h\")\n",
    "elif vel_asteriode >= 25:\n",
    "    print (\"ADVERTENCIA SE ACERCA UN ASTEROIDE CON UNA VELOCIDAD CONSIDERABLE\")\n",
    "    print(\"SU VELOCIDAD ES DE:\", vel_asteriode, \"KM/H\" )\n",
    "elif vel_asteriode == 0:\n",
    "    print(\"El asteroide no esta en movimiento\")\n",
    "else:\n",
    "    print(\"No hay ningun asteroide en orbita\")\n"
   ]
  },
  {
   "cell_type": "markdown",
   "metadata": {},
   "source": [
    "## PROBLEMA 2\n",
    "Si un asteroide entra en la atmósfera de la Tierra a una velocidad mayor o igual a 20 km/s, a veces produce un rayo de luz que se puede ver desde la Tierra. Escribe la lógica condicional que usa declaraciones if, else, y elif para alertar a las personas de todo el mundo que deben buscar un asteroide en el cielo. ¡Hay uno que se dirige a la tierra ahora a una velocidad de 19 km/s!"
   ]
  },
  {
   "cell_type": "code",
   "execution_count": 49,
   "metadata": {},
   "outputs": [
    {
     "name": "stdout",
     "output_type": "stream",
     "text": [
      "La velocidad del asteroide no signifca ningun peligro y no se lograra observar ningun destello de luz :c\n",
      "Su velocidad es de: 19 Km/h\n"
     ]
    }
   ],
   "source": [
    "vel_asteriode = int(input(\"Introduzca velocidad del asteroide: \"))\n",
    "if vel_asteriode < 25 and vel_asteriode >= 20:\n",
    "    print (\"La velocidad es suficiente para poder observar un destello de luz en el cielo\")\n",
    "    print(\"Su velocidad es de:\", vel_asteriode, \"Km/h\")\n",
    "elif vel_asteriode >= 25:\n",
    "    print (\"ADVERTENCIA SE ACERCA UN ASTEROIDE CON UNA VELOCIDAD CONSIDERABLE\")\n",
    "    print(\"SU VELOCIDAD ES DE:\", vel_asteriode, \"KM/H\" )\n",
    "elif vel_asteriode == 0:\n",
    "    print(\"El asteroide no esta en movimiento\")\n",
    "else:\n",
    "    print (\"La velocidad del asteroide no signifca ningun peligro y no se lograra observar ningun destello de luz :c\")\n",
    "    print(\"Su velocidad es de:\", vel_asteriode, \"Km/h\")"
   ]
  },
  {
   "cell_type": "markdown",
   "metadata": {},
   "source": [
    "## PROBLEMA 3\n",
    "En este ejercicio, aprenderás información más matizada sobre cuándo los asteroides representan un peligro para la Tierra, y utilizarás esa información para mejorar nuestro sistema de advertencia. Aquí está la nueva información que necesitas saber:\n",
    "\n",
    "*Los asteroides de menos de 25 metros en su dimensión más grande probablemente se quemarán a medida que entren en la atmósfera de la Tierra.\n",
    "\n",
    "Si una pieza de un asteroide que es más grande que 25 metros pero más pequeña que 1000 metros golpeara la Tierra, causaría mucho daño.\n",
    "También discutimos en el ejercicio anterior que:\n",
    "\n",
    "La velocidad del asteroide varía en función de lo cerca que esté del sol, y cualquier velocidad superior a 25 kilómetros por segundo (km/s) merece una advertencia.\n",
    "Si un asteroide entra en la atmósfera de la Tierra a una velocidad mayor o igual a 20 km/s, a veces produce un rayo de luz que se puede ver desde la Tierra.\n",
    "Usando toda esta información, escribe un programa que emita la advertencia o información correcta a la gente de la Tierra, según la velocidad y el tamaño de un asteroide. Utiliza instrucciones if, else, y elif, así como los operadores and y or."
   ]
  },
  {
   "cell_type": "code",
   "execution_count": 10,
   "metadata": {},
   "outputs": [
    {
     "name": "stdout",
     "output_type": "stream",
     "text": [
      "ADVERTENCIA SE ACERCA UN ASTEROIDE CON UNA VELOCIDAD CONSIDERABLE Y DEBIDO A SU TAMAÑO CAUSARA GRAVES DAÑOS\n",
      "SU VELOCIDAD ES DE: 30.6 KM/H\n",
      "SU TAMAÑO ES DE: 50.4 METROS\n"
     ]
    }
   ],
   "source": [
    "vel_asteriode = float(input(\"Introduzca velocidad del asteroide: \"))\n",
    "tam_asteriode = float(input(\"Introduzca el tamano del asteroide: \"))\n",
    "if vel_asteriode < 25 and vel_asteriode >= 20 and tam_asteriode < 25:\n",
    "    print (\"La velocidad es suficiente para poder observar un destello de luz en el cielo\")\n",
    "    print(\"Su velocidad es de:\", vel_asteriode, \"Km/h\")\n",
    "    print(\"Debido a su tamaño el asteroide se quemara en la atmosfera de la tierra\")\n",
    "    print(\"Su tamaño es de:\", tam_asteriode, \"metros\")\n",
    "elif vel_asteriode >= 25 and tam_asteriode > 25 and tam_asteriode < 1000:\n",
    "    print (\"ADVERTENCIA SE ACERCA UN ASTEROIDE CON UNA VELOCIDAD CONSIDERABLE Y DEBIDO A SU TAMAÑO CAUSARA GRAVES DAÑOS\")\n",
    "    print(\"SU VELOCIDAD ES DE:\", vel_asteriode, \"KM/H\" )\n",
    "    print (\"SU TAMAÑO ES DE:\", tam_asteriode, \"METROS\")\n",
    "elif vel_asteriode > 25 and tam_asteriode < 25:\n",
    "    print (\"ADVERTENCIA SE ACERCA UN ASTEROIDE CON UNA VELOCIDAD CONSIDERABLE SU TAMAÑO NO ES UNA AMENAZA\")\n",
    "    print(\"SU VELOCIDAD ES DE:\", vel_asteriode, \"KM/H\" )\n",
    "    print (\"SU TAMAÑO ES DE:\", tam_asteriode, \"METROS\")\n",
    "elif vel_asteriode < 25 and tam_asteriode > 25:\n",
    "    print (\"ADVERTENCIA SE ACERCA UN ASTEROIDE CON UNA VELOCIDAD QUE NO ES UNA AMENAZA PERO SU TAMAÑO SI LA REPRESENTA\")\n",
    "    print(\"SU VELOCIDAD ES DE:\", vel_asteriode, \"KM/H\" )\n",
    "    print (\"SU TAMAÑO ES DE:\", tam_asteriode, \"METROS\")\n",
    "else:\n",
    "    if vel_asteriode == 0 or tam_asteriode < 25:\n",
    "        print(\"El asteroide no esta en movimiento \" \" Su tamaño no es ninguna amenaza\")\n",
    "        print(\"Su velocidad es de:\", vel_asteriode, \"Km/h\")\n",
    "        print(\"Su tamaño es de:\", tam_asteriode, \"metros\")"
   ]
  }
 ],
 "metadata": {
  "interpreter": {
   "hash": "db5df41f22515fe4abc0fb45c2f2d6008f4175d35f2a415b2f629d5f1cc1dad8"
  },
  "kernelspec": {
   "display_name": "Python 3.7.9 64-bit",
   "language": "python",
   "name": "python3"
  },
  "language_info": {
   "codemirror_mode": {
    "name": "ipython",
    "version": 3
   },
   "file_extension": ".py",
   "mimetype": "text/x-python",
   "name": "python",
   "nbconvert_exporter": "python",
   "pygments_lexer": "ipython3",
   "version": "3.7.9"
  },
  "orig_nbformat": 4
 },
 "nbformat": 4,
 "nbformat_minor": 2
}
