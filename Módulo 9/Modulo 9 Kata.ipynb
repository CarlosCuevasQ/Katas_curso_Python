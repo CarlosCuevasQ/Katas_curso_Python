{
 "cells": [
  {
   "cell_type": "markdown",
   "metadata": {},
   "source": [
    "## Ejercicio: Uso de funciones en Python\n",
    "Ejercicio 1: Trabajar con argumentos en funciones\n",
    "Los argumentos requeridos en las funciones se utilizan cuando las funciones necesitan que esos argumentos funcionen correctamente. En este ejercicio, construirás un informe de combustible que requiere información de varias ubicaciones de combustible en todo el cohete."
   ]
  },
  {
   "cell_type": "markdown",
   "metadata": {},
   "source": [
    "Comienza por crear una función que necesite tres lecturas de combustible y devuelva un informe:"
   ]
  },
  {
   "cell_type": "code",
   "execution_count": 13,
   "metadata": {},
   "outputs": [],
   "source": [
    "def combustible (tanque_1, tanque_2, tanque_3):\n",
    "    combustible_total = (tanque_1+tanque_2+tanque_3)\n",
    "    combustible_promedio = (tanque_1+tanque_2+tanque_3) /3\n",
    "    return f\"Analisis del combustible:\\n Combustible total:{combustible_total} lts.\\n promedio de cobustible por tanque: {combustible_promedio} lts\\n Tanque 1:{tanque_1} lts\\n Tanque 2:{tanque_2} lts\\n Tanque 3:{tanque_3} lts\""
   ]
  },
  {
   "cell_type": "markdown",
   "metadata": {},
   "source": [
    "Ahora que hemos definido la función de informes, vamos a comprobarlo. Para esta misión, los tanques no están llenos:"
   ]
  },
  {
   "cell_type": "code",
   "execution_count": 17,
   "metadata": {},
   "outputs": [
    {
     "name": "stdout",
     "output_type": "stream",
     "text": [
      "Analisis del combustible:\n",
      " Combustible total: 27 lts.\n",
      " promedio de cobustible por tanque: 9.0 lts\n",
      " Tanque 1: 14 lts\n",
      " Tanque 2: 13 lts\n",
      " Tanque 3: 0 lts\n"
     ]
    }
   ],
   "source": [
    "def combustible (tanque_1, tanque_2, tanque_3):\n",
    "    combustible_total = (tanque_1+tanque_2+tanque_3)\n",
    "    combustible_promedio = (tanque_1+tanque_2+tanque_3) /3\n",
    "    return f\"Analisis del combustible:\\n Combustible total: {combustible_total} lts.\\n promedio de cobustible por tanque: {combustible_promedio} lts\\n Tanque 1: {tanque_1} lts\\n Tanque 2: {tanque_2} lts\\n Tanque 3: {tanque_3} lts\"\n",
    "print(combustible(14, 13, 0))"
   ]
  },
  {
   "cell_type": "markdown",
   "metadata": {},
   "source": [
    "En lugar de simplemente crear el informe, la función también está calculando el promedio. Mejora la legibilidad extrayendo el cálculo promedio de la función en una nueva función para que el promedio se pueda hacer de forma independiente:"
   ]
  },
  {
   "cell_type": "code",
   "execution_count": 26,
   "metadata": {},
   "outputs": [
    {
     "data": {
      "text/plain": [
       "('El promedio por tanque del combuatible es:', 9.0, 'lts')"
      ]
     },
     "execution_count": 26,
     "metadata": {},
     "output_type": "execute_result"
    }
   ],
   "source": [
    "def tanques_combustible (combustible):\n",
    "    suma = sum(combustible)\n",
    "    tanques=len(combustible)\n",
    "    promedio = suma / tanques\n",
    "    return \"El promedio por tanque del combuatible es:\", promedio, \"lts\"\n",
    "tanques_combustible([14, 13, 0])\n",
    "\n"
   ]
  },
  {
   "cell_type": "markdown",
   "metadata": {},
   "source": [
    "Ahora actualiza la función de informes para llamando a la nueva función del promedio:"
   ]
  },
  {
   "cell_type": "code",
   "execution_count": 28,
   "metadata": {},
   "outputs": [
    {
     "name": "stdout",
     "output_type": "stream",
     "text": [
      "Analisis del combustible:\n",
      " Combustible total: 27 lts.\n",
      " promedio de cobustible por tanque: 9.0 lts\n",
      " Tanque 1: 14 lts\n",
      " Tanque 2: 13 lts\n",
      " Tanque 3: 0 lts\n"
     ]
    }
   ],
   "source": [
    "def combustible (tanque_1, tanque_2, tanque_3):\n",
    "    combustible_total = (tanque_1+tanque_2+tanque_3)\n",
    "    combustible_promedio = combustible_total /3\n",
    "    return f\"Analisis del combustible:\\n Combustible total: {combustible_total} lts.\\n promedio de cobustible por tanque: {combustible_promedio} lts\\n Tanque 1: {tanque_1} lts\\n Tanque 2: {tanque_2} lts\\n Tanque 3: {tanque_3} lts\"\n",
    "print(combustible(14, 13, 0))"
   ]
  },
  {
   "cell_type": "markdown",
   "metadata": {},
   "source": [
    "## Ejercicio 2: Trabajo con argumentos de palabra clave\n",
    "Ejercicio : Trabajar con argumentos de palabras clave en funciones\n",
    "En este ejercicio, construirás un informe de cohete que requiere varias piezas de información, como el tiempo hasta el destino, el combustible a la izquierda y el nombre del destino. Comienza por crear una función que creará un informe preciso de la misión:"
   ]
  },
  {
   "cell_type": "code",
   "execution_count": 33,
   "metadata": {},
   "outputs": [
    {
     "name": "stdout",
     "output_type": "stream",
     "text": [
      "La hora para el prelanzamiento es: 10 minutos\n",
      "    La hora de vuelo es: 25 minutos\n",
      "    El tiempo total de vuelo es: 35 minutos\n",
      "    El destino del vuelo es: Luna\n",
      "    Gasolina en tanque externo: 30000 lts\n",
      "    Gasolina en tanque interno: 15000 lts\n",
      "    \n"
     ]
    }
   ],
   "source": [
    "def informe_mision (hora_prelanzamiento, tiempo_vuelo, destino, tanque_externo, tanque_interno):\n",
    "    return f\"\"\"La hora para el prelanzamiento es: {hora_prelanzamiento} minutos\n",
    "    La hora de vuelo es: {tiempo_vuelo} minutos\n",
    "    El tiempo total de vuelo es: {hora_prelanzamiento + tiempo_vuelo} minutos\n",
    "    El destino del vuelo es: {destino}\n",
    "    Gasolina en tanque externo: {tanque_externo} lts\n",
    "    Gasolina en tanque interno: {tanque_interno} lts\n",
    "    \"\"\"\n",
    "print(informe_mision(10, 25, 'Luna', 30000, 15000 ))"
   ]
  },
  {
   "cell_type": "markdown",
   "metadata": {},
   "source": [
    "La función es problemática porque no se puede adaptar para minutos adicionales o tanques adicionales de combustible. Hazlo más flexible permitiendo cualquier número de pasos basados en el tiempo y cualquier número de tanques. En lugar de usar *args y **kwargs, aprovecha el hecho de que puedes usar cualquier nombre que desees. Asegurate que la función sea más legible mediante el uso de nombres de variables que están asociados con las entradas, como *minutes y **fuel_reservoirs:"
   ]
  },
  {
   "cell_type": "code",
   "execution_count": 3,
   "metadata": {},
   "outputs": [
    {
     "name": "stdout",
     "output_type": "stream",
     "text": [
      "El tiempo total de vuelo es: 35 minutos\n",
      "    El destino del vuelo es: Luna\n",
      "    Gasolina en los tanques: 45000 lts\n",
      "    \n"
     ]
    }
   ],
   "source": [
    "def informe_mision ( destino, *minutos, **tanques_combustible):\n",
    "    return f\"\"\"El tiempo total de vuelo es: {sum(minutos)} minutos\n",
    "    El destino del vuelo es: {destino}\n",
    "    Gasolina en los tanques: {sum(tanques_combustible.values())} lts\n",
    "    \"\"\"\n",
    "print(informe_mision(\"Luna\", 10, 25, interno=30000, externo=15000 ))"
   ]
  },
  {
   "cell_type": "markdown",
   "metadata": {},
   "source": [
    "Debido a que el combustible que queda en los tanques es específico de cada tanque, actualiza la función para usar el nombre de cada tanque en el informe:"
   ]
  },
  {
   "cell_type": "code",
   "execution_count": 4,
   "metadata": {},
   "outputs": [
    {
     "name": "stdout",
     "output_type": "stream",
     "text": [
      "El tiempo total de vuelo es: 35 minutos\n",
      "    El destino del vuelo es: Luna\n",
      "    Gasolina en los tanques: 45000 lts\n",
      "    \n"
     ]
    }
   ],
   "source": [
    "def informe_mision ( destino, *minutos, **tanques_combustible):\n",
    "    return f\"\"\"El tiempo total de vuelo es: {sum(minutos)} minutos\n",
    "    El destino del vuelo es: {destino}\n",
    "    Gasolina en los tanques: {sum(tanques_combustible.values())} lts\n",
    "    \"\"\"\n",
    "    for tanque, galon in tanques_combustible.items():\n",
    "        informe_mision+= f\"{tanque} tanques: Quedan {galon} galones\\n\"\n",
    "    return informe_mision\n",
    "print(informe_mision(\"Luna\", 10, 25, interno=30000, externo=15000 ))"
   ]
  }
 ],
 "metadata": {
  "interpreter": {
   "hash": "7daf8f3305ad9085a0e078850e77516c5ab1691c29a942c8f3180f2dd12688ac"
  },
  "kernelspec": {
   "display_name": "Python 3.9.10 64-bit",
   "language": "python",
   "name": "python3"
  },
  "language_info": {
   "codemirror_mode": {
    "name": "ipython",
    "version": 3
   },
   "file_extension": ".py",
   "mimetype": "text/x-python",
   "name": "python",
   "nbconvert_exporter": "python",
   "pygments_lexer": "ipython3",
   "version": "3.7.9"
  },
  "orig_nbformat": 4
 },
 "nbformat": 4,
 "nbformat_minor": 2
}
